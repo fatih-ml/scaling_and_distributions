{
 "cells": [
  {
   "cell_type": "markdown",
   "id": "26a188c6-2240-47e2-9c4e-74095204ff47",
   "metadata": {},
   "source": [
    "# Scaling of the Features: A Comparative Sample of normalization and Standardization"
   ]
  },
  {
   "cell_type": "markdown",
   "id": "2a10e7d4-da84-4e1f-abf5-4c4b58e58d1d",
   "metadata": {},
   "source": [
    "In this notebook we will try to understand the effect of normalization and standardization (2 Scaling techniques) over variables, especially distributions"
   ]
  },
  {
   "cell_type": "markdown",
   "id": "7644fa08-7bfd-453d-ba01-71ac1d7e41d9",
   "metadata": {},
   "source": [
    "## Reading the Dataset"
   ]
  },
  {
   "cell_type": "code",
   "execution_count": 1,
   "id": "63ac78a5-4a6f-430d-a833-07082efaa7d7",
   "metadata": {
    "tags": []
   },
   "outputs": [],
   "source": [
    "import pandas as pd\n",
    "import numpy as np\n",
    "import matplotlib.pyplot as plt\n",
    "import seaborn as sns\n",
    "pd.set_option('Display.max_columns', None)\n",
    "import warnings\n",
    "warnings.filterwarnings('ignore')"
   ]
  },
  {
   "cell_type": "code",
   "execution_count": 2,
   "id": "8ea0df64-b218-4cbc-8c6f-7a0b2080b3f5",
   "metadata": {
    "tags": []
   },
   "outputs": [
    {
     "data": {
      "text/html": [
       "<div>\n",
       "<style scoped>\n",
       "    .dataframe tbody tr th:only-of-type {\n",
       "        vertical-align: middle;\n",
       "    }\n",
       "\n",
       "    .dataframe tbody tr th {\n",
       "        vertical-align: top;\n",
       "    }\n",
       "\n",
       "    .dataframe thead th {\n",
       "        text-align: right;\n",
       "    }\n",
       "</style>\n",
       "<table border=\"1\" class=\"dataframe\">\n",
       "  <thead>\n",
       "    <tr style=\"text-align: right;\">\n",
       "      <th></th>\n",
       "      <th>SalePrice</th>\n",
       "      <th>GrLivArea</th>\n",
       "      <th>OverallQual</th>\n",
       "    </tr>\n",
       "  </thead>\n",
       "  <tbody>\n",
       "    <tr>\n",
       "      <th>0</th>\n",
       "      <td>208500</td>\n",
       "      <td>1710</td>\n",
       "      <td>7</td>\n",
       "    </tr>\n",
       "    <tr>\n",
       "      <th>1</th>\n",
       "      <td>181500</td>\n",
       "      <td>1262</td>\n",
       "      <td>6</td>\n",
       "    </tr>\n",
       "    <tr>\n",
       "      <th>2</th>\n",
       "      <td>223500</td>\n",
       "      <td>1786</td>\n",
       "      <td>7</td>\n",
       "    </tr>\n",
       "    <tr>\n",
       "      <th>3</th>\n",
       "      <td>140000</td>\n",
       "      <td>1717</td>\n",
       "      <td>7</td>\n",
       "    </tr>\n",
       "    <tr>\n",
       "      <th>4</th>\n",
       "      <td>250000</td>\n",
       "      <td>2198</td>\n",
       "      <td>8</td>\n",
       "    </tr>\n",
       "    <tr>\n",
       "      <th>...</th>\n",
       "      <td>...</td>\n",
       "      <td>...</td>\n",
       "      <td>...</td>\n",
       "    </tr>\n",
       "    <tr>\n",
       "      <th>1455</th>\n",
       "      <td>175000</td>\n",
       "      <td>1647</td>\n",
       "      <td>6</td>\n",
       "    </tr>\n",
       "    <tr>\n",
       "      <th>1456</th>\n",
       "      <td>210000</td>\n",
       "      <td>2073</td>\n",
       "      <td>6</td>\n",
       "    </tr>\n",
       "    <tr>\n",
       "      <th>1457</th>\n",
       "      <td>266500</td>\n",
       "      <td>2340</td>\n",
       "      <td>7</td>\n",
       "    </tr>\n",
       "    <tr>\n",
       "      <th>1458</th>\n",
       "      <td>142125</td>\n",
       "      <td>1078</td>\n",
       "      <td>5</td>\n",
       "    </tr>\n",
       "    <tr>\n",
       "      <th>1459</th>\n",
       "      <td>147500</td>\n",
       "      <td>1256</td>\n",
       "      <td>5</td>\n",
       "    </tr>\n",
       "  </tbody>\n",
       "</table>\n",
       "<p>1460 rows × 3 columns</p>\n",
       "</div>"
      ],
      "text/plain": [
       "      SalePrice  GrLivArea  OverallQual\n",
       "0        208500       1710            7\n",
       "1        181500       1262            6\n",
       "2        223500       1786            7\n",
       "3        140000       1717            7\n",
       "4        250000       2198            8\n",
       "...         ...        ...          ...\n",
       "1455     175000       1647            6\n",
       "1456     210000       2073            6\n",
       "1457     266500       2340            7\n",
       "1458     142125       1078            5\n",
       "1459     147500       1256            5\n",
       "\n",
       "[1460 rows x 3 columns]"
      ]
     },
     "execution_count": 2,
     "metadata": {},
     "output_type": "execute_result"
    }
   ],
   "source": [
    "# link for the data: https://github.com/fatih-ml/Housing-prices-machine-learning-lr-model/tree/main/data\n",
    "\n",
    "filepath = \"train.csv\"\n",
    "\n",
    "# I want to select 3 variables to investigate from a dataset\n",
    "df = pd.read_csv(filepath)[['SalePrice','GrLivArea', 'OverallQual' ]]\n",
    "df"
   ]
  },
  {
   "cell_type": "markdown",
   "id": "e5413084-d430-44b9-880b-7a1be4710dba",
   "metadata": {},
   "source": [
    "## Standardizing and Normalizing"
   ]
  },
  {
   "cell_type": "code",
   "execution_count": 3,
   "id": "bd5f1ffa-157c-424d-8763-8b3534f2aad9",
   "metadata": {
    "tags": []
   },
   "outputs": [],
   "source": [
    "from sklearn.preprocessing import StandardScaler, MinMaxScaler\n",
    "\n",
    "standardizer = StandardScaler()\n",
    "normalizer = MinMaxScaler()"
   ]
  },
  {
   "cell_type": "code",
   "execution_count": 4,
   "id": "408b2e69-9a88-46fb-806c-fc031e5d7dc0",
   "metadata": {
    "tags": []
   },
   "outputs": [],
   "source": [
    "# Transform from sklearn returns np.array not a dataframe\n",
    "np_array_standardized = standardizer.fit_transform(df)\n",
    "np_array_normalized = normalizer.fit_transform(df)\n",
    "\n",
    "# I want dataframe not np.array\n",
    "df_standardized = pd.DataFrame(np_array_standardized, columns=df.columns)\n",
    "df_normalized = pd.DataFrame(np_array_normalized, columns=df.columns)"
   ]
  },
  {
   "cell_type": "code",
   "execution_count": 5,
   "id": "0f693f3f-2eae-4289-b5cf-1b4a46a66064",
   "metadata": {
    "tags": []
   },
   "outputs": [
    {
     "name": "stdout",
     "output_type": "stream",
     "text": [
      "SalePrice      0.0\n",
      "GrLivArea      0.0\n",
      "OverallQual    0.0\n",
      "dtype: float64 \n",
      " SalePrice      1.0\n",
      "GrLivArea      1.0\n",
      "OverallQual    1.0\n",
      "dtype: float64\n"
     ]
    }
   ],
   "source": [
    "# Lets Check Normalization, min=0, max=1\n",
    "print(df_normalized.min(), '\\n', df_normalized.max())"
   ]
  },
  {
   "cell_type": "code",
   "execution_count": 6,
   "id": "f7a11c08-b38f-4160-95a2-2f0ec1270129",
   "metadata": {
    "tags": []
   },
   "outputs": [
    {
     "name": "stdout",
     "output_type": "stream",
     "text": [
      "SalePrice      1.000343\n",
      "GrLivArea      1.000343\n",
      "OverallQual    1.000343\n",
      "dtype: float64 \n",
      " SalePrice      1.180182e-16\n",
      "GrLivArea     -1.446332e-16\n",
      "OverallQual   -7.680310e-17\n",
      "dtype: float64\n"
     ]
    }
   ],
   "source": [
    "#Lets check standardization mean=0, std=1\n",
    "print(df_standardized.std(), '\\n', df_standardized.mean())"
   ]
  },
  {
   "cell_type": "code",
   "execution_count": 7,
   "id": "e0f0aa7a-8268-43a4-9a26-04c7f9f53cd7",
   "metadata": {
    "tags": []
   },
   "outputs": [
    {
     "data": {
      "text/html": [
       "<div>\n",
       "<style scoped>\n",
       "    .dataframe tbody tr th:only-of-type {\n",
       "        vertical-align: middle;\n",
       "    }\n",
       "\n",
       "    .dataframe tbody tr th {\n",
       "        vertical-align: top;\n",
       "    }\n",
       "\n",
       "    .dataframe thead th {\n",
       "        text-align: right;\n",
       "    }\n",
       "</style>\n",
       "<table border=\"1\" class=\"dataframe\">\n",
       "  <thead>\n",
       "    <tr style=\"text-align: right;\">\n",
       "      <th></th>\n",
       "      <th>SalePrice</th>\n",
       "      <th>GrLivArea</th>\n",
       "      <th>OverallQual</th>\n",
       "    </tr>\n",
       "  </thead>\n",
       "  <tbody>\n",
       "    <tr>\n",
       "      <th>0</th>\n",
       "      <td>0.241078</td>\n",
       "      <td>0.259231</td>\n",
       "      <td>0.666667</td>\n",
       "    </tr>\n",
       "    <tr>\n",
       "      <th>1</th>\n",
       "      <td>0.203583</td>\n",
       "      <td>0.174830</td>\n",
       "      <td>0.555556</td>\n",
       "    </tr>\n",
       "    <tr>\n",
       "      <th>2</th>\n",
       "      <td>0.261908</td>\n",
       "      <td>0.273549</td>\n",
       "      <td>0.666667</td>\n",
       "    </tr>\n",
       "    <tr>\n",
       "      <th>3</th>\n",
       "      <td>0.145952</td>\n",
       "      <td>0.260550</td>\n",
       "      <td>0.666667</td>\n",
       "    </tr>\n",
       "    <tr>\n",
       "      <th>4</th>\n",
       "      <td>0.298709</td>\n",
       "      <td>0.351168</td>\n",
       "      <td>0.777778</td>\n",
       "    </tr>\n",
       "  </tbody>\n",
       "</table>\n",
       "</div>"
      ],
      "text/plain": [
       "   SalePrice  GrLivArea  OverallQual\n",
       "0   0.241078   0.259231     0.666667\n",
       "1   0.203583   0.174830     0.555556\n",
       "2   0.261908   0.273549     0.666667\n",
       "3   0.145952   0.260550     0.666667\n",
       "4   0.298709   0.351168     0.777778"
      ]
     },
     "execution_count": 7,
     "metadata": {},
     "output_type": "execute_result"
    }
   ],
   "source": [
    "df_normalized.head()"
   ]
  },
  {
   "cell_type": "code",
   "execution_count": 8,
   "id": "5cff86de-a4ba-465a-8a09-b5cba807e2ae",
   "metadata": {
    "tags": []
   },
   "outputs": [
    {
     "data": {
      "text/html": [
       "<div>\n",
       "<style scoped>\n",
       "    .dataframe tbody tr th:only-of-type {\n",
       "        vertical-align: middle;\n",
       "    }\n",
       "\n",
       "    .dataframe tbody tr th {\n",
       "        vertical-align: top;\n",
       "    }\n",
       "\n",
       "    .dataframe thead th {\n",
       "        text-align: right;\n",
       "    }\n",
       "</style>\n",
       "<table border=\"1\" class=\"dataframe\">\n",
       "  <thead>\n",
       "    <tr style=\"text-align: right;\">\n",
       "      <th></th>\n",
       "      <th>SalePrice</th>\n",
       "      <th>GrLivArea</th>\n",
       "      <th>OverallQual</th>\n",
       "    </tr>\n",
       "  </thead>\n",
       "  <tbody>\n",
       "    <tr>\n",
       "      <th>0</th>\n",
       "      <td>0.347273</td>\n",
       "      <td>0.370333</td>\n",
       "      <td>0.651479</td>\n",
       "    </tr>\n",
       "    <tr>\n",
       "      <th>1</th>\n",
       "      <td>0.007288</td>\n",
       "      <td>-0.482512</td>\n",
       "      <td>-0.071836</td>\n",
       "    </tr>\n",
       "    <tr>\n",
       "      <th>2</th>\n",
       "      <td>0.536154</td>\n",
       "      <td>0.515013</td>\n",
       "      <td>0.651479</td>\n",
       "    </tr>\n",
       "    <tr>\n",
       "      <th>3</th>\n",
       "      <td>-0.515281</td>\n",
       "      <td>0.383659</td>\n",
       "      <td>0.651479</td>\n",
       "    </tr>\n",
       "    <tr>\n",
       "      <th>4</th>\n",
       "      <td>0.869843</td>\n",
       "      <td>1.299326</td>\n",
       "      <td>1.374795</td>\n",
       "    </tr>\n",
       "  </tbody>\n",
       "</table>\n",
       "</div>"
      ],
      "text/plain": [
       "   SalePrice  GrLivArea  OverallQual\n",
       "0   0.347273   0.370333     0.651479\n",
       "1   0.007288  -0.482512    -0.071836\n",
       "2   0.536154   0.515013     0.651479\n",
       "3  -0.515281   0.383659     0.651479\n",
       "4   0.869843   1.299326     1.374795"
      ]
     },
     "execution_count": 8,
     "metadata": {},
     "output_type": "execute_result"
    }
   ],
   "source": [
    "df_standardized.head()"
   ]
  },
  {
   "cell_type": "markdown",
   "id": "48b532eb-c7f6-4e0b-8c0c-feb5064c1633",
   "metadata": {},
   "source": [
    "## Boxplots Before-After"
   ]
  },
  {
   "cell_type": "code",
   "execution_count": 9,
   "id": "92dfa3a1-08c1-4f7d-b81a-b2e96e22b2ca",
   "metadata": {},
   "outputs": [],
   "source": [
    "def plot_boxplots_multi(df, nrows, ncols, figsize=(15,5), whis=1.5):\n",
    "    \"Plot boxplots for all numeric columns for a given df \"\n",
    "    \n",
    "    fig, axes = plt.subplots(nrows=nrows, ncols=ncols, figsize=figsize)\n",
    "    axes = axes.flatten()\n",
    "    for i, col in enumerate(df.select_dtypes(include='number').columns):\n",
    "        sns.boxplot(df[col], ax=axes[i], whis=whis)\n",
    "    plt.tight_layout()\n",
    "    plt.show()"
   ]
  },
  {
   "cell_type": "code",
   "execution_count": 10,
   "id": "3e7f3b1c-619e-456d-a420-23e28d59451a",
   "metadata": {
    "tags": []
   },
   "outputs": [
    {
     "data": {
      "image/png": "[encoded data removed]",
      "text/plain": [
       "<Figure size 1500x300 with 3 Axes>"
      ]
     },
     "metadata": {},
     "output_type": "display_data"
    }
   ],
   "source": [
    "# Original DataFrame\n",
    "plot_boxplots_multi(df, 1, 3, (15,3), whis=3)"
   ]
  },
  {
   "cell_type": "code",
   "execution_count": 11,
   "id": "61e9ec8c-374f-4d7f-8ed7-109fb8e0f870",
   "metadata": {
    "tags": []
   },
   "outputs": [
    {
     "data": {
      "image/png": "[encoded data removed]",
      "text/plain": [
       "<Figure size 1500x300 with 3 Axes>"
      ]
     },
     "metadata": {},
     "output_type": "display_data"
    }
   ],
   "source": [
    "# standardized DataFrame\n",
    "plot_boxplots_multi(df_standardized, 1, 3, (15,3), whis=3)"
   ]
  },
  {
   "cell_type": "code",
   "execution_count": 12,
   "id": "319aa073-fa0e-4bd6-b033-79a9e3046f18",
   "metadata": {
    "tags": []
   },
   "outputs": [
    {
     "data": {
      "image/png": "[encoded data removed]",
      "text/plain": [
       "<Figure size 1500x300 with 3 Axes>"
      ]
     },
     "metadata": {},
     "output_type": "display_data"
    }
   ],
   "source": [
    "# Normalized DataFrame\n",
    "plot_boxplots_multi(df_normalized, 1, 3, (15,3), whis=3)"
   ]
  },
  {
   "cell_type": "markdown",
   "id": "69fa0ba6-3923-4cb5-a945-37df9fe41cfd",
   "metadata": {},
   "source": [
    "## Histograms Before-After"
   ]
  },
  {
   "cell_type": "code",
   "execution_count": 13,
   "id": "8f3879de-c90a-4843-8df3-0056e8add435",
   "metadata": {
    "tags": []
   },
   "outputs": [],
   "source": [
    "def plot_histograms_multi(df, nrows, ncols, figsize=(15,3), bins=15):\n",
    "    \"Plot histograms for all numeric columns for a given df \"\n",
    "    \n",
    "    fig, axes = plt.subplots(nrows=nrows, ncols=ncols, figsize=figsize)\n",
    "    axes = axes.flatten()\n",
    "    for i, col in enumerate(df.select_dtypes(include='number').columns):\n",
    "        sns.histplot(df[col], ax=axes[i], bins=bins)\n",
    "    plt.tight_layout()\n",
    "    plt.show()"
   ]
  },
  {
   "cell_type": "code",
   "execution_count": 14,
   "id": "49d59289-451a-44dd-8d67-d685390b2835",
   "metadata": {
    "tags": []
   },
   "outputs": [
    {
     "data": {
      "image/png": "[encoded data removed]",
      "text/plain": [
       "<Figure size 1500x300 with 3 Axes>"
      ]
     },
     "metadata": {},
     "output_type": "display_data"
    }
   ],
   "source": [
    "# Original DataFrame\n",
    "plot_histograms_multi(df, 1, 3)"
   ]
  },
  {
   "cell_type": "code",
   "execution_count": 15,
   "id": "5b6d0505-5e4a-4d56-b350-3ab64b54475e",
   "metadata": {
    "tags": []
   },
   "outputs": [
    {
     "data": {
      "image/png": "[encoded data removed]",
      "text/plain": [
       "<Figure size 1500x300 with 3 Axes>"
      ]
     },
     "metadata": {},
     "output_type": "display_data"
    }
   ],
   "source": [
    "# Standardized dataframe\n",
    "plot_histograms_multi(df_standardized, 1, 3)"
   ]
  },
  {
   "cell_type": "code",
   "execution_count": 16,
   "id": "bf38d173-830b-4220-a5d2-961cd4026b3e",
   "metadata": {
    "tags": []
   },
   "outputs": [
    {
     "data": {
      "image/png": "[encoded data removed]",
      "text/plain": [
       "<Figure size 1500x300 with 3 Axes>"
      ]
     },
     "metadata": {},
     "output_type": "display_data"
    }
   ],
   "source": [
    "# normalized dataframe\n",
    "plot_histograms_multi(df_normalized, 1, 3)"
   ]
  },
  {
   "cell_type": "markdown",
   "id": "1ef78873-1105-4a21-a0f2-af45e4033272",
   "metadata": {},
   "source": [
    "__It seems like the distributions are identical__"
   ]
  },
  {
   "cell_type": "code",
   "execution_count": 17,
   "id": "d6da6a73-4059-4b5a-8651-c402a91614f5",
   "metadata": {
    "tags": []
   },
   "outputs": [],
   "source": [
    "# Lets calculate each variable normality scores \n",
    "from scipy.stats import shapiro\n",
    "\n",
    "def apply_shapiro_normality(df):\n",
    "    # Create an empty dict for stacking shapiro results\n",
    "    normality_scores = {}\n",
    "    \n",
    "    for var in df.columns:\n",
    "        stat, p_value = shapiro(df[var])\n",
    "        # Add a tuple for each col in dictionary\n",
    "        normality_scores[var] = (stat, p_value)\n",
    "    \n",
    "    # Print the results for each variable in dictionary or our df\n",
    "    for var, scores in normality_scores.items():\n",
    "        print(f\"Variable '{var}':\")\n",
    "        print(f\"Shapiro-Wilk Statistic: {scores[0]:.3f}\")\n",
    "        print(f\"P-value: {scores[1]:.5f}\")\n",
    "        print(\"=\"*30)"
   ]
  },
  {
   "cell_type": "code",
   "execution_count": 18,
   "id": "3407cf8c-3b6b-4044-8d63-81dce9da7c57",
   "metadata": {
    "tags": []
   },
   "outputs": [
    {
     "name": "stdout",
     "output_type": "stream",
     "text": [
      "Variable 'SalePrice':\n",
      "Shapiro-Wilk Statistic: 0.870\n",
      "P-value: 0.00000\n",
      "==============================\n",
      "Variable 'GrLivArea':\n",
      "Shapiro-Wilk Statistic: 0.928\n",
      "P-value: 0.00000\n",
      "==============================\n",
      "Variable 'OverallQual':\n",
      "Shapiro-Wilk Statistic: 0.948\n",
      "P-value: 0.00000\n",
      "==============================\n"
     ]
    }
   ],
   "source": [
    "apply_shapiro_normality(df)"
   ]
  },
  {
   "cell_type": "code",
   "execution_count": 19,
   "id": "d68354ec-8770-4d0a-9588-a6c6f79b3ce9",
   "metadata": {
    "tags": []
   },
   "outputs": [
    {
     "name": "stdout",
     "output_type": "stream",
     "text": [
      "Variable 'SalePrice':\n",
      "Shapiro-Wilk Statistic: 0.870\n",
      "P-value: 0.00000\n",
      "==============================\n",
      "Variable 'GrLivArea':\n",
      "Shapiro-Wilk Statistic: 0.928\n",
      "P-value: 0.00000\n",
      "==============================\n",
      "Variable 'OverallQual':\n",
      "Shapiro-Wilk Statistic: 0.948\n",
      "P-value: 0.00000\n",
      "==============================\n"
     ]
    }
   ],
   "source": [
    "apply_shapiro_normality(df_standardized)"
   ]
  },
  {
   "cell_type": "code",
   "execution_count": 20,
   "id": "556f01c4-934b-4d58-8285-340da4ae3883",
   "metadata": {
    "tags": []
   },
   "outputs": [
    {
     "name": "stdout",
     "output_type": "stream",
     "text": [
      "Variable 'SalePrice':\n",
      "Shapiro-Wilk Statistic: 0.870\n",
      "P-value: 0.00000\n",
      "==============================\n",
      "Variable 'GrLivArea':\n",
      "Shapiro-Wilk Statistic: 0.928\n",
      "P-value: 0.00000\n",
      "==============================\n",
      "Variable 'OverallQual':\n",
      "Shapiro-Wilk Statistic: 0.948\n",
      "P-value: 0.00000\n",
      "==============================\n"
     ]
    }
   ],
   "source": [
    "apply_shapiro_normality(df_normalized)"
   ]
  },
  {
   "cell_type": "markdown",
   "id": "55f71ccc-af07-46f1-9737-6188c855b9d4",
   "metadata": {
    "tags": []
   },
   "source": [
    "__The shapiro results are identical, so that means SCALING does not change the shape of original distribution__"
   ]
  },
  {
   "cell_type": "code",
   "execution_count": 21,
   "id": "00dee738-7136-415d-9fd0-b7cf60538130",
   "metadata": {
    "tags": []
   },
   "outputs": [
    {
     "data": {
      "text/plain": [
       "SalePrice      6.536282\n",
       "GrLivArea      4.895121\n",
       "OverallQual    0.096293\n",
       "dtype: float64"
      ]
     },
     "execution_count": 21,
     "metadata": {},
     "output_type": "execute_result"
    }
   ],
   "source": [
    "df_normalized.kurtosis()"
   ]
  },
  {
   "cell_type": "code",
   "execution_count": 22,
   "id": "fa6b8d3f-edd8-40e0-9444-5ac1211ab65e",
   "metadata": {
    "tags": []
   },
   "outputs": [
    {
     "data": {
      "text/plain": [
       "SalePrice      6.536282\n",
       "GrLivArea      4.895121\n",
       "OverallQual    0.096293\n",
       "dtype: float64"
      ]
     },
     "execution_count": 22,
     "metadata": {},
     "output_type": "execute_result"
    }
   ],
   "source": [
    "df.kurtosis()"
   ]
  },
  {
   "cell_type": "code",
   "execution_count": 23,
   "id": "7adece67-4c77-48aa-bf6a-87e51ca7a7f2",
   "metadata": {
    "tags": []
   },
   "outputs": [
    {
     "data": {
      "text/plain": [
       "SalePrice      6.536282\n",
       "GrLivArea      4.895121\n",
       "OverallQual    0.096293\n",
       "dtype: float64"
      ]
     },
     "execution_count": 23,
     "metadata": {},
     "output_type": "execute_result"
    }
   ],
   "source": [
    "df_standardized.kurtosis()"
   ]
  },
  {
   "cell_type": "markdown",
   "id": "3637add0-74cf-4d51-bd93-e9104b29e012",
   "metadata": {},
   "source": [
    "__Also kurtosis are identical__"
   ]
  },
  {
   "cell_type": "markdown",
   "id": "51ed8241-2d72-4471-b563-55567fddfcd5",
   "metadata": {},
   "source": [
    "# Result"
   ]
  },
  {
   "cell_type": "markdown",
   "id": "a770b24b-d6c5-4db2-814d-1f1c52c92dce",
   "metadata": {},
   "source": [
    "* the results proved that normalization and standardization does not directly change the underlying distribution shape.  \n",
    "* they both apply scaling\n",
    "* change the mean and standard deviation of variables"
   ]
  },
  {
   "cell_type": "code",
   "execution_count": null,
   "id": "81ac1421-c7a0-4c6a-91e3-b92f2cec62c3",
   "metadata": {},
   "outputs": [],
   "source": []
  }
 ],
 "metadata": {
  "kernelspec": {
   "display_name": "Python 3 (ipykernel)",
   "language": "python",
   "name": "python3"
  },
  "language_info": {
   "codemirror_mode": {
    "name": "ipython",
    "version": 3
   },
   "file_extension": ".py",
   "mimetype": "text/x-python",
   "name": "python",
   "nbconvert_exporter": "python",
   "pygments_lexer": "ipython3",
   "version": "3.10.8"
  }
 },
 "nbformat": 4,
 "nbformat_minor": 5
}
